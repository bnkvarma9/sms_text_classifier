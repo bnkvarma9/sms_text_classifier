{
 "cells": [
  {
   "cell_type": "code",
   "execution_count": 16,
   "metadata": {
    "id": "8RZOuS9LWQvv"
   },
   "outputs": [
    {
     "name": "stdout",
     "output_type": "stream",
     "text": [
      "Requirement already satisfied: tf-nightly in /Users/nikhilvarma/opt/anaconda3/lib/python3.9/site-packages (2.16.0.dev20231119)\n",
      "Requirement already satisfied: packaging in /Users/nikhilvarma/opt/anaconda3/lib/python3.9/site-packages (from tf-nightly) (21.3)\n",
      "Requirement already satisfied: opt-einsum>=2.3.2 in /Users/nikhilvarma/opt/anaconda3/lib/python3.9/site-packages (from tf-nightly) (3.3.0)\n",
      "Requirement already satisfied: h5py>=3.10.0 in /Users/nikhilvarma/opt/anaconda3/lib/python3.9/site-packages (from tf-nightly) (3.10.0)\n",
      "Requirement already satisfied: keras-nightly~=3.0.0.dev in /Users/nikhilvarma/opt/anaconda3/lib/python3.9/site-packages (from tf-nightly) (3.0.0.dev2023111903)\n",
      "Requirement already satisfied: wrapt<1.15,>=1.11.0 in /Users/nikhilvarma/opt/anaconda3/lib/python3.9/site-packages (from tf-nightly) (1.14.1)\n",
      "Requirement already satisfied: google-pasta>=0.1.1 in /Users/nikhilvarma/opt/anaconda3/lib/python3.9/site-packages (from tf-nightly) (0.2.0)\n",
      "Requirement already satisfied: six>=1.12.0 in /Users/nikhilvarma/opt/anaconda3/lib/python3.9/site-packages (from tf-nightly) (1.16.0)\n",
      "Requirement already satisfied: absl-py>=1.0.0 in /Users/nikhilvarma/opt/anaconda3/lib/python3.9/site-packages (from tf-nightly) (1.3.0)\n",
      "Requirement already satisfied: setuptools in /Users/nikhilvarma/opt/anaconda3/lib/python3.9/site-packages (from tf-nightly) (63.4.1)\n",
      "Requirement already satisfied: tb-nightly~=2.16.0.a in /Users/nikhilvarma/opt/anaconda3/lib/python3.9/site-packages (from tf-nightly) (2.16.0a20231119)\n",
      "Requirement already satisfied: tf-estimator-nightly~=2.14.0.dev in /Users/nikhilvarma/opt/anaconda3/lib/python3.9/site-packages (from tf-nightly) (2.14.0.dev2023080308)\n",
      "Requirement already satisfied: protobuf!=4.21.0,!=4.21.1,!=4.21.2,!=4.21.3,!=4.21.4,!=4.21.5,<5.0.0dev,>=3.20.3 in /Users/nikhilvarma/opt/anaconda3/lib/python3.9/site-packages (from tf-nightly) (3.20.3)\n",
      "Requirement already satisfied: libclang>=13.0.0 in /Users/nikhilvarma/opt/anaconda3/lib/python3.9/site-packages (from tf-nightly) (14.0.6)\n",
      "Requirement already satisfied: tensorflow-io-gcs-filesystem>=0.23.1 in /Users/nikhilvarma/opt/anaconda3/lib/python3.9/site-packages (from tf-nightly) (0.29.0)\n",
      "Requirement already satisfied: grpcio<2.0,>=1.24.3 in /Users/nikhilvarma/opt/anaconda3/lib/python3.9/site-packages (from tf-nightly) (1.51.1)\n",
      "Requirement already satisfied: termcolor>=1.1.0 in /Users/nikhilvarma/opt/anaconda3/lib/python3.9/site-packages (from tf-nightly) (2.1.1)\n",
      "Requirement already satisfied: ml-dtypes~=0.3.1 in /Users/nikhilvarma/opt/anaconda3/lib/python3.9/site-packages (from tf-nightly) (0.3.1)\n",
      "Requirement already satisfied: numpy<2.0.0,>=1.23.5 in /Users/nikhilvarma/opt/anaconda3/lib/python3.9/site-packages (from tf-nightly) (1.26.2)\n",
      "Requirement already satisfied: gast!=0.5.0,!=0.5.1,!=0.5.2,>=0.2.1 in /Users/nikhilvarma/opt/anaconda3/lib/python3.9/site-packages (from tf-nightly) (0.4.0)\n",
      "Requirement already satisfied: astunparse>=1.6.0 in /Users/nikhilvarma/opt/anaconda3/lib/python3.9/site-packages (from tf-nightly) (1.6.3)\n",
      "Requirement already satisfied: flatbuffers>=23.5.26 in /Users/nikhilvarma/opt/anaconda3/lib/python3.9/site-packages (from tf-nightly) (23.5.26)\n",
      "Requirement already satisfied: typing-extensions>=3.6.6 in /Users/nikhilvarma/opt/anaconda3/lib/python3.9/site-packages (from tf-nightly) (4.3.0)\n",
      "Requirement already satisfied: wheel<1.0,>=0.23.0 in /Users/nikhilvarma/opt/anaconda3/lib/python3.9/site-packages (from astunparse>=1.6.0->tf-nightly) (0.37.1)\n",
      "Requirement already satisfied: dm-tree in /Users/nikhilvarma/opt/anaconda3/lib/python3.9/site-packages (from keras-nightly~=3.0.0.dev->tf-nightly) (0.1.8)\n",
      "Requirement already satisfied: rich in /Users/nikhilvarma/opt/anaconda3/lib/python3.9/site-packages (from keras-nightly~=3.0.0.dev->tf-nightly) (13.7.0)\n",
      "Requirement already satisfied: namex in /Users/nikhilvarma/opt/anaconda3/lib/python3.9/site-packages (from keras-nightly~=3.0.0.dev->tf-nightly) (0.0.7)\n",
      "Requirement already satisfied: google-auth-oauthlib<2,>=0.5 in /Users/nikhilvarma/opt/anaconda3/lib/python3.9/site-packages (from tb-nightly~=2.16.0.a->tf-nightly) (1.1.0)\n",
      "Requirement already satisfied: markdown>=2.6.8 in /Users/nikhilvarma/opt/anaconda3/lib/python3.9/site-packages (from tb-nightly~=2.16.0.a->tf-nightly) (3.3.4)\n",
      "Requirement already satisfied: tensorboard-data-server<0.8.0,>=0.7.0 in /Users/nikhilvarma/opt/anaconda3/lib/python3.9/site-packages (from tb-nightly~=2.16.0.a->tf-nightly) (0.7.2)\n",
      "Requirement already satisfied: tf-keras-nightly in /Users/nikhilvarma/opt/anaconda3/lib/python3.9/site-packages (from tb-nightly~=2.16.0.a->tf-nightly) (2.16.0.dev2023111910)\n",
      "Requirement already satisfied: werkzeug>=1.0.1 in /Users/nikhilvarma/opt/anaconda3/lib/python3.9/site-packages (from tb-nightly~=2.16.0.a->tf-nightly) (2.0.3)\n",
      "Requirement already satisfied: google-auth<3,>=1.6.3 in /Users/nikhilvarma/opt/anaconda3/lib/python3.9/site-packages (from tb-nightly~=2.16.0.a->tf-nightly) (2.15.0)\n",
      "Requirement already satisfied: requests<3,>=2.21.0 in /Users/nikhilvarma/opt/anaconda3/lib/python3.9/site-packages (from tb-nightly~=2.16.0.a->tf-nightly) (2.28.1)\n",
      "Requirement already satisfied: pyparsing!=3.0.5,>=2.0.2 in /Users/nikhilvarma/opt/anaconda3/lib/python3.9/site-packages (from packaging->tf-nightly) (3.0.9)\n",
      "Requirement already satisfied: rsa<5,>=3.1.4 in /Users/nikhilvarma/opt/anaconda3/lib/python3.9/site-packages (from google-auth<3,>=1.6.3->tb-nightly~=2.16.0.a->tf-nightly) (4.9)\n",
      "Requirement already satisfied: cachetools<6.0,>=2.0.0 in /Users/nikhilvarma/opt/anaconda3/lib/python3.9/site-packages (from google-auth<3,>=1.6.3->tb-nightly~=2.16.0.a->tf-nightly) (5.2.0)\n",
      "Requirement already satisfied: pyasn1-modules>=0.2.1 in /Users/nikhilvarma/opt/anaconda3/lib/python3.9/site-packages (from google-auth<3,>=1.6.3->tb-nightly~=2.16.0.a->tf-nightly) (0.2.8)\n",
      "Requirement already satisfied: requests-oauthlib>=0.7.0 in /Users/nikhilvarma/opt/anaconda3/lib/python3.9/site-packages (from google-auth-oauthlib<2,>=0.5->tb-nightly~=2.16.0.a->tf-nightly) (1.3.1)\n",
      "Requirement already satisfied: urllib3<1.27,>=1.21.1 in /Users/nikhilvarma/opt/anaconda3/lib/python3.9/site-packages (from requests<3,>=2.21.0->tb-nightly~=2.16.0.a->tf-nightly) (1.26.11)\n",
      "Requirement already satisfied: charset-normalizer<3,>=2 in /Users/nikhilvarma/opt/anaconda3/lib/python3.9/site-packages (from requests<3,>=2.21.0->tb-nightly~=2.16.0.a->tf-nightly) (2.0.4)\n",
      "Requirement already satisfied: certifi>=2017.4.17 in /Users/nikhilvarma/opt/anaconda3/lib/python3.9/site-packages (from requests<3,>=2.21.0->tb-nightly~=2.16.0.a->tf-nightly) (2022.9.24)\n",
      "Requirement already satisfied: idna<4,>=2.5 in /Users/nikhilvarma/opt/anaconda3/lib/python3.9/site-packages (from requests<3,>=2.21.0->tb-nightly~=2.16.0.a->tf-nightly) (3.3)\n",
      "Requirement already satisfied: pygments<3.0.0,>=2.13.0 in /Users/nikhilvarma/opt/anaconda3/lib/python3.9/site-packages (from rich->keras-nightly~=3.0.0.dev->tf-nightly) (2.17.1)\n",
      "Requirement already satisfied: markdown-it-py>=2.2.0 in /Users/nikhilvarma/opt/anaconda3/lib/python3.9/site-packages (from rich->keras-nightly~=3.0.0.dev->tf-nightly) (3.0.0)\n",
      "Requirement already satisfied: mdurl~=0.1 in /Users/nikhilvarma/opt/anaconda3/lib/python3.9/site-packages (from markdown-it-py>=2.2.0->rich->keras-nightly~=3.0.0.dev->tf-nightly) (0.1.2)\n",
      "Requirement already satisfied: pyasn1<0.5.0,>=0.4.6 in /Users/nikhilvarma/opt/anaconda3/lib/python3.9/site-packages (from pyasn1-modules>=0.2.1->google-auth<3,>=1.6.3->tb-nightly~=2.16.0.a->tf-nightly) (0.4.8)\n",
      "Requirement already satisfied: oauthlib>=3.0.0 in /Users/nikhilvarma/opt/anaconda3/lib/python3.9/site-packages (from requests-oauthlib>=0.7.0->google-auth-oauthlib<2,>=0.5->tb-nightly~=2.16.0.a->tf-nightly) (3.2.2)\n",
      "Requirement already satisfied: tensorflow-datasets in /Users/nikhilvarma/opt/anaconda3/lib/python3.9/site-packages (4.9.3)\n",
      "Requirement already satisfied: array-record in /Users/nikhilvarma/opt/anaconda3/lib/python3.9/site-packages (from tensorflow-datasets) (0.4.1)\n",
      "Requirement already satisfied: numpy in /Users/nikhilvarma/opt/anaconda3/lib/python3.9/site-packages (from tensorflow-datasets) (1.26.2)\n",
      "Requirement already satisfied: etils[enp,epath,etree]>=0.9.0 in /Users/nikhilvarma/opt/anaconda3/lib/python3.9/site-packages (from tensorflow-datasets) (1.5.2)\n",
      "Requirement already satisfied: requests>=2.19.0 in /Users/nikhilvarma/opt/anaconda3/lib/python3.9/site-packages (from tensorflow-datasets) (2.28.1)\n",
      "Requirement already satisfied: termcolor in /Users/nikhilvarma/opt/anaconda3/lib/python3.9/site-packages (from tensorflow-datasets) (2.1.1)\n",
      "Requirement already satisfied: wrapt in /Users/nikhilvarma/opt/anaconda3/lib/python3.9/site-packages (from tensorflow-datasets) (1.14.1)\n",
      "Requirement already satisfied: toml in /Users/nikhilvarma/opt/anaconda3/lib/python3.9/site-packages (from tensorflow-datasets) (0.10.2)\n",
      "Requirement already satisfied: protobuf>=3.20 in /Users/nikhilvarma/opt/anaconda3/lib/python3.9/site-packages (from tensorflow-datasets) (3.20.3)\n",
      "Requirement already satisfied: tqdm in /Users/nikhilvarma/opt/anaconda3/lib/python3.9/site-packages (from tensorflow-datasets) (4.64.1)\n",
      "Requirement already satisfied: psutil in /Users/nikhilvarma/opt/anaconda3/lib/python3.9/site-packages (from tensorflow-datasets) (5.9.0)\n",
      "Requirement already satisfied: tensorflow-metadata in /Users/nikhilvarma/opt/anaconda3/lib/python3.9/site-packages (from tensorflow-datasets) (1.14.0)\n",
      "Requirement already satisfied: absl-py in /Users/nikhilvarma/opt/anaconda3/lib/python3.9/site-packages (from tensorflow-datasets) (1.3.0)\n",
      "Requirement already satisfied: promise in /Users/nikhilvarma/opt/anaconda3/lib/python3.9/site-packages (from tensorflow-datasets) (2.3)\n",
      "Requirement already satisfied: click in /Users/nikhilvarma/opt/anaconda3/lib/python3.9/site-packages (from tensorflow-datasets) (8.0.4)\n",
      "Requirement already satisfied: dm-tree in /Users/nikhilvarma/opt/anaconda3/lib/python3.9/site-packages (from tensorflow-datasets) (0.1.8)\n"
     ]
    },
    {
     "name": "stdout",
     "output_type": "stream",
     "text": [
      "Requirement already satisfied: fsspec in /Users/nikhilvarma/opt/anaconda3/lib/python3.9/site-packages (from etils[enp,epath,etree]>=0.9.0->tensorflow-datasets) (2022.7.1)\n",
      "Requirement already satisfied: importlib_resources in /Users/nikhilvarma/opt/anaconda3/lib/python3.9/site-packages (from etils[enp,epath,etree]>=0.9.0->tensorflow-datasets) (6.1.1)\n",
      "Requirement already satisfied: typing_extensions in /Users/nikhilvarma/opt/anaconda3/lib/python3.9/site-packages (from etils[enp,epath,etree]>=0.9.0->tensorflow-datasets) (4.3.0)\n",
      "Requirement already satisfied: zipp in /Users/nikhilvarma/opt/anaconda3/lib/python3.9/site-packages (from etils[enp,epath,etree]>=0.9.0->tensorflow-datasets) (3.8.0)\n",
      "Requirement already satisfied: urllib3<1.27,>=1.21.1 in /Users/nikhilvarma/opt/anaconda3/lib/python3.9/site-packages (from requests>=2.19.0->tensorflow-datasets) (1.26.11)\n",
      "Requirement already satisfied: certifi>=2017.4.17 in /Users/nikhilvarma/opt/anaconda3/lib/python3.9/site-packages (from requests>=2.19.0->tensorflow-datasets) (2022.9.24)\n",
      "Requirement already satisfied: idna<4,>=2.5 in /Users/nikhilvarma/opt/anaconda3/lib/python3.9/site-packages (from requests>=2.19.0->tensorflow-datasets) (3.3)\n",
      "Requirement already satisfied: charset-normalizer<3,>=2 in /Users/nikhilvarma/opt/anaconda3/lib/python3.9/site-packages (from requests>=2.19.0->tensorflow-datasets) (2.0.4)\n",
      "Requirement already satisfied: six in /Users/nikhilvarma/opt/anaconda3/lib/python3.9/site-packages (from promise->tensorflow-datasets) (1.16.0)\n",
      "Requirement already satisfied: googleapis-common-protos<2,>=1.52.0 in /Users/nikhilvarma/opt/anaconda3/lib/python3.9/site-packages (from tensorflow-metadata->tensorflow-datasets) (1.61.0)\n",
      "2.16.0-dev20231119\n"
     ]
    }
   ],
   "source": [
    "# import libraries\n",
    "try:\n",
    "  # %tensorflow_version only exists in Colab.\n",
    "  !pip install tf-nightly\n",
    "except Exception:\n",
    "  pass\n",
    "import tensorflow as tf\n",
    "import pandas as pd\n",
    "from tensorflow import keras\n",
    "from keras import layers\n",
    "!pip install tensorflow-datasets\n",
    "import tensorflow_datasets as tfds\n",
    "import numpy as np\n",
    "import matplotlib.pyplot as plt\n",
    "\n",
    "print(tf.__version__)"
   ]
  },
  {
   "cell_type": "code",
   "execution_count": 2,
   "metadata": {
    "id": "lMHwYXHXCar3"
   },
   "outputs": [
    {
     "name": "stdout",
     "output_type": "stream",
     "text": [
      "--2023-11-19 17:40:10--  https://cdn.freecodecamp.org/project-data/sms/train-data.tsv\n",
      "Resolving cdn.freecodecamp.org (cdn.freecodecamp.org)... 2606:4700:20::681a:221, 2606:4700:20::681a:321, 2606:4700:20::ac43:4695, ...\n",
      "Connecting to cdn.freecodecamp.org (cdn.freecodecamp.org)|2606:4700:20::681a:221|:443... connected.\n",
      "HTTP request sent, awaiting response... 200 OK\n",
      "Length: 358233 (350K) [text/tab-separated-values]\n",
      "Saving to: 'train-data.tsv'\n",
      "\n",
      "train-data.tsv      100%[===================>] 349.84K  --.-KB/s    in 0.1s    \n",
      "\n",
      "2023-11-19 17:40:10 (2.92 MB/s) - 'train-data.tsv' saved [358233/358233]\n",
      "\n",
      "--2023-11-19 17:40:10--  https://cdn.freecodecamp.org/project-data/sms/valid-data.tsv\n",
      "Resolving cdn.freecodecamp.org (cdn.freecodecamp.org)... 2606:4700:20::681a:221, 2606:4700:20::681a:321, 2606:4700:20::ac43:4695, ...\n",
      "Connecting to cdn.freecodecamp.org (cdn.freecodecamp.org)|2606:4700:20::681a:221|:443... connected.\n",
      "HTTP request sent, awaiting response... 200 OK\n",
      "Length: 118774 (116K) [text/tab-separated-values]\n",
      "Saving to: 'valid-data.tsv'\n",
      "\n",
      "valid-data.tsv      100%[===================>] 115.99K  --.-KB/s    in 0.05s   \n",
      "\n",
      "2023-11-19 17:40:11 (2.39 MB/s) - 'valid-data.tsv' saved [118774/118774]\n",
      "\n"
     ]
    }
   ],
   "source": [
    "# get data files\n",
    "!wget https://cdn.freecodecamp.org/project-data/sms/train-data.tsv\n",
    "!wget https://cdn.freecodecamp.org/project-data/sms/valid-data.tsv\n",
    "\n",
    "train_file_path = \"train-data.tsv\"\n",
    "test_file_path = \"valid-data.tsv\""
   ]
  },
  {
   "cell_type": "code",
   "execution_count": 53,
   "metadata": {
    "id": "g_h508FEClxO"
   },
   "outputs": [
    {
     "data": {
      "text/html": [
       "<div>\n",
       "<style scoped>\n",
       "    .dataframe tbody tr th:only-of-type {\n",
       "        vertical-align: middle;\n",
       "    }\n",
       "\n",
       "    .dataframe tbody tr th {\n",
       "        vertical-align: top;\n",
       "    }\n",
       "\n",
       "    .dataframe thead th {\n",
       "        text-align: right;\n",
       "    }\n",
       "</style>\n",
       "<table border=\"1\" class=\"dataframe\">\n",
       "  <thead>\n",
       "    <tr style=\"text-align: right;\">\n",
       "      <th></th>\n",
       "      <th>ham</th>\n",
       "      <th>ahhhh...just woken up!had a bad dream about u tho,so i dont like u right now :) i didnt know anything about comedy night but i guess im up for it.</th>\n",
       "    </tr>\n",
       "  </thead>\n",
       "  <tbody>\n",
       "    <tr>\n",
       "      <th>0</th>\n",
       "      <td>ham</td>\n",
       "      <td>you can never do nothing</td>\n",
       "    </tr>\n",
       "    <tr>\n",
       "      <th>1</th>\n",
       "      <td>ham</td>\n",
       "      <td>now u sound like manky scouse boy steve,like! ...</td>\n",
       "    </tr>\n",
       "    <tr>\n",
       "      <th>2</th>\n",
       "      <td>ham</td>\n",
       "      <td>mum say we wan to go then go... then she can s...</td>\n",
       "    </tr>\n",
       "    <tr>\n",
       "      <th>3</th>\n",
       "      <td>ham</td>\n",
       "      <td>never y lei... i v lazy... got wat? dat day ü ...</td>\n",
       "    </tr>\n",
       "    <tr>\n",
       "      <th>4</th>\n",
       "      <td>ham</td>\n",
       "      <td>in xam hall boy asked girl tell me the startin...</td>\n",
       "    </tr>\n",
       "  </tbody>\n",
       "</table>\n",
       "</div>"
      ],
      "text/plain": [
       "   ham  \\\n",
       "0  ham   \n",
       "1  ham   \n",
       "2  ham   \n",
       "3  ham   \n",
       "4  ham   \n",
       "\n",
       "  ahhhh...just woken up!had a bad dream about u tho,so i dont like u right now :) i didnt know anything about comedy night but i guess im up for it.  \n",
       "0                           you can never do nothing                                                                                                  \n",
       "1  now u sound like manky scouse boy steve,like! ...                                                                                                  \n",
       "2  mum say we wan to go then go... then she can s...                                                                                                  \n",
       "3  never y lei... i v lazy... got wat? dat day ü ...                                                                                                  \n",
       "4  in xam hall boy asked girl tell me the startin...                                                                                                  "
      ]
     },
     "execution_count": 53,
     "metadata": {},
     "output_type": "execute_result"
    }
   ],
   "source": [
    "dataset=pd.read_csv(train_file_path,  delimiter='\\t')\n",
    "test=pd.read_csv(test_file_path, delimiter='\\t')"
   ]
  },
  {
   "cell_type": "code",
   "execution_count": 63,
   "metadata": {
    "id": "zOMKywn4zReN"
   },
   "outputs": [
    {
     "data": {
      "text/plain": [
       "0                             you can never do nothing\n",
       "1    now u sound like manky scouse boy steve,like! ...\n",
       "2    mum say we wan to go then go... then she can s...\n",
       "3    never y lei... i v lazy... got wat? dat day ü ...\n",
       "4    in xam hall boy asked girl tell me the startin...\n",
       "Name: ahhhh...just woken up!had a bad dream about u tho,so i dont like u right now :) i didnt know anything about comedy night but i guess im up for it., dtype: object"
      ]
     },
     "execution_count": 63,
     "metadata": {},
     "output_type": "execute_result"
    }
   ],
   "source": [
    "train_dataset=dataset.iloc[:,1]\n",
    "train_labels=dataset.iloc[:,0]\n",
    "test_dataset=test.iloc[:,1]\n",
    "test_labels=test.iloc[:,0]\n",
    "train_dataset.head()"
   ]
  },
  {
   "cell_type": "code",
   "execution_count": 64,
   "metadata": {},
   "outputs": [
    {
     "name": "stdout",
     "output_type": "stream",
     "text": [
      "(4178,) (4178,)\n"
     ]
    },
    {
     "data": {
      "text/plain": [
       "0                                you can never do nothing\n",
       "1       now u sound like manky scouse boy steve,like! ...\n",
       "2       mum say we wan to go then go... then she can s...\n",
       "3       never y lei... i v lazy... got wat? dat day ü ...\n",
       "4       in xam hall boy asked girl tell me the startin...\n",
       "                              ...                        \n",
       "4173    just woke up. yeesh its late. but i didn't fal...\n",
       "4174    what do u reckon as need 2 arrange transport i...\n",
       "4175    free entry into our £250 weekly competition ju...\n",
       "4176    -pls stop bootydelious (32/f) is inviting you ...\n",
       "4177    tell my  bad character which u dnt lik in me. ...\n",
       "Name: ahhhh...just woken up!had a bad dream about u tho,so i dont like u right now :) i didnt know anything about comedy night but i guess im up for it., Length: 4178, dtype: object"
      ]
     },
     "execution_count": 64,
     "metadata": {},
     "output_type": "execute_result"
    }
   ],
   "source": [
    "print(train_dataset.shape, train_labels.shape)\n",
    "train_dataset"
   ]
  },
  {
   "cell_type": "code",
   "execution_count": 65,
   "metadata": {},
   "outputs": [],
   "source": [
    "from sklearn.feature_extraction.text import TfidfVectorizer\n",
    "from sklearn.model_selection import train_test_split\n",
    "from sklearn.preprocessing import LabelEncoder\n",
    "X_train, X_test, y_train, y_test = train_test_split(train_dataset, train_labels, test_size=0.2, random_state=42)\n",
    "vectorizer = TfidfVectorizer(max_features=4178)  # You can adjust 'max_features' based on your dataset size\n",
    "X_train_tfidf = vectorizer.fit_transform(X_train)\n",
    "X_test_tfidf = vectorizer.transform(X_test)\n",
    "\n",
    "# Convert labels to numerical format\n",
    "label_encoder = LabelEncoder()\n",
    "y_train_encoded = label_encoder.fit_transform(y_train)\n",
    "y_test_encoded = label_encoder.transform(y_test)\n"
   ]
  },
  {
   "cell_type": "code",
   "execution_count": 66,
   "metadata": {},
   "outputs": [
    {
     "data": {
      "text/plain": [
       "<3342x4178 sparse matrix of type '<class 'numpy.float64'>'\n",
       "\twith 42023 stored elements in Compressed Sparse Row format>"
      ]
     },
     "execution_count": 66,
     "metadata": {},
     "output_type": "execute_result"
    }
   ],
   "source": [
    "X_train_tfidf\n"
   ]
  },
  {
   "cell_type": "code",
   "execution_count": 67,
   "metadata": {},
   "outputs": [
    {
     "data": {
      "text/plain": [
       "LogisticRegression()"
      ]
     },
     "execution_count": 67,
     "metadata": {},
     "output_type": "execute_result"
    }
   ],
   "source": [
    "from sklearn.linear_model import LogisticRegression\n",
    "\n",
    "model=LogisticRegression()\n",
    "model.fit(X_train_tfidf,y_train_encoded)"
   ]
  },
  {
   "cell_type": "code",
   "execution_count": 68,
   "metadata": {},
   "outputs": [],
   "source": [
    "# model = keras.Sequential([\n",
    "#     layers.Dense(32, activation='relu', input_shape=(X_train_tfidf.shape[1],)),\n",
    "#     layers.Dense(16, activation='relu'),\n",
    "#     layers.Dense(1, activation='sigmoid')\n",
    "# ])\n",
    "# model.compile(optimizer='adam', loss='binary_crossentropy', metrics=['accuracy'])\n",
    "# model.fit(X_train_tfidf, y_train_encoded, epochs=100, batch_size=32, validation_data=(X_test_tfidf, y_test_encoded), verbose=1)"
   ]
  },
  {
   "cell_type": "code",
   "execution_count": 76,
   "metadata": {
    "id": "J9tD9yACG6M9"
   },
   "outputs": [
    {
     "name": "stdout",
     "output_type": "stream",
     "text": [
      "[array([0]), 'ham']\n"
     ]
    }
   ],
   "source": [
    "# function to predict messages based on model\n",
    "# (should return list containing prediction and label, ex. [0.008318834938108921, 'ham'])\n",
    "def predict_message(pred_text):\n",
    "    pred_text_encoded=vectorizer.transform([pred_text])\n",
    "    p = model.predict(pred_text_encoded)\n",
    "    msg=''\n",
    "    if p<=0.5:\n",
    "        msg='ham'\n",
    "    else:\n",
    "        msg='spam'\n",
    "    prediction=[p,msg]\n",
    "    return (prediction)\n",
    "\n",
    "pred_text = \"how are you doing today?\"\n",
    "\n",
    "prediction = predict_message(pred_text)\n",
    "print(prediction)"
   ]
  },
  {
   "cell_type": "code",
   "execution_count": 80,
   "metadata": {
    "id": "Dxotov85SjsC"
   },
   "outputs": [
    {
     "name": "stdout",
     "output_type": "stream",
     "text": [
      "You passed the challenge. Great job!\n"
     ]
    }
   ],
   "source": [
    "# Run this cell to test your function and model. Do not modify contents.\n",
    "def test_predictions():\n",
    "    \n",
    "\n",
    "    test_messages = [\"how are you doing today\",\n",
    "                   \"sale today! to stop texts call 98912460324\",\n",
    "                   \"i dont want to go. can we try it a different day? available sat\",\n",
    "                   \"our new mobile video service is live. just install on your phone to start watching.\",\n",
    "                   \"you have won £1000 cash! call to claim your prize.\",\n",
    "                   \"i'll bring it tomorrow. don't forget the milk.\",\n",
    "                   \"wow, is your arm alright. that happened to me one time too\"\n",
    "                  ]\n",
    "\n",
    "    test_answers = [\"ham\", \"spam\", \"ham\", \"spam\", \"spam\", \"ham\", \"ham\"]\n",
    "    passed = True\n",
    "\n",
    "    for msg, ans in zip(test_messages, test_answers):\n",
    "        prediction = predict_message(msg)\n",
    "        if prediction[1] != ans:\n",
    "            passed = False\n",
    "\n",
    "    if passed:\n",
    "        print(\"You passed the challenge. Great job!\")\n",
    "    else:\n",
    "        print(\"You haven't passed yet. Keep trying.\")\n",
    "\n",
    "test_predictions()\n"
   ]
  },
  {
   "cell_type": "code",
   "execution_count": null,
   "metadata": {},
   "outputs": [],
   "source": []
  }
 ],
 "metadata": {
  "colab": {
   "name": "fcc_sms_text_classification.ipynb",
   "private_outputs": true,
   "provenance": [],
   "toc_visible": true
  },
  "kernelspec": {
   "display_name": "Python 3 (ipykernel)",
   "language": "python",
   "name": "python3"
  },
  "language_info": {
   "codemirror_mode": {
    "name": "ipython",
    "version": 3
   },
   "file_extension": ".py",
   "mimetype": "text/x-python",
   "name": "python",
   "nbconvert_exporter": "python",
   "pygments_lexer": "ipython3",
   "version": "3.9.13"
  }
 },
 "nbformat": 4,
 "nbformat_minor": 1
}
